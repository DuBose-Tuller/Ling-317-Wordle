{
 "cells": [
  {
   "cell_type": "markdown",
   "id": "810c7841",
   "metadata": {},
   "source": [
    "### Final Project\n",
    "\n",
    "This project is all about the popular word puzzle game Wordle. The notebook contains several algorithms to solve a Wordle puzzle in as few steps as possible, as well as a way to play the game yourself. This code is centered around the idea of a strategy, which is how the game generates a guess based on all of the information presented by the game so far. The notebook is set up in such a way that new strategies can be made by the user.\n",
    "\n",
    "Note: the code expects two other files to be located in the same directory as the notebook: `possible_guesses.txt` and `possible_answers.txt`.\n",
    "\n",
    "\n",
    "### Setup"
   ]
  },
  {
   "cell_type": "code",
   "execution_count": 1,
   "id": "fcf68313",
   "metadata": {},
   "outputs": [],
   "source": [
    "import random\n",
    "import numpy as np\n",
    "from tqdm import tqdm\n",
    "import matplotlib.pyplot as plt\n",
    "import re\n",
    "import traceback"
   ]
  },
  {
   "cell_type": "markdown",
   "id": "5e8568a1",
   "metadata": {},
   "source": [
    "Get all of the valid guesses and answers that are used in the real game. They were found <a href=https://github.com/3b1b/videos/tree/master/_2022/wordle/data>here</a>."
   ]
  },
  {
   "cell_type": "code",
   "execution_count": 2,
   "id": "6e45e9b2",
   "metadata": {},
   "outputs": [
    {
     "name": "stdout",
     "output_type": "stream",
     "text": [
      "Number of valid guesses: 12953\n",
      "Number of answers: 2309\n"
     ]
    }
   ],
   "source": [
    "valid_guesses = []\n",
    "with open(\"possible_guesses.txt\", \"r\") as f:\n",
    "    valid_guesses = f.read().split(\"\\n\")\n",
    "    \n",
    "with open(\"possible_answers.txt\", \"r\") as f:\n",
    "    answers_no_split = f.read()\n",
    "    answers = answers_no_split.split(\"\\n\")\n",
    "    answers_no_split = \"\\n\"+answers_no_split\n",
    "    \n",
    "    \n",
    "print(f\"Number of valid guesses: {len(valid_guesses)}\")\n",
    "print(f\"Number of answers: {len(answers)}\")"
   ]
  },
  {
   "cell_type": "markdown",
   "id": "3d6d1a2f",
   "metadata": {},
   "source": [
    "Patterns are a dictionary associating letters with a status. 0 means the letter is not in the solution (gray), 1 means the letter is in another location (yellow), and 2 means the letter is in the correct location (green)."
   ]
  },
  {
   "cell_type": "code",
   "execution_count": 3,
   "id": "d1eeb2b4",
   "metadata": {},
   "outputs": [],
   "source": [
    "def generate_pattern(guess, solution):\n",
    "    pattern = []\n",
    "    for i, char in enumerate(guess):\n",
    "        if char in solution:\n",
    "            if solution[i] == char:\n",
    "                pattern.append([char,2])\n",
    "            else:\n",
    "                pattern.append([char,1])\n",
    "        else:\n",
    "            pattern.append([char,0])\n",
    "    \n",
    "    return pattern\n",
    "            \n",
    "\n",
    "\n",
    "def pattern_match(word, pattern):\n",
    "    for i, (char, val) in enumerate(pattern):\n",
    "        \n",
    "        # Returns false if green letter is not in word in the same location\n",
    "        if val == 2: \n",
    "            if word[i] != char:\n",
    "                return False\n",
    "                \n",
    "        # Returns false if yellow letter is not in word anywhere\n",
    "        elif val == 1:\n",
    "            if char not in word:\n",
    "                return False\n",
    "                \n",
    "        # Returns false if gray letter is found in word anywhere\n",
    "        else:\n",
    "            if char in word:\n",
    "                return False\n",
    "    \n",
    "        \n",
    "    return True\n",
    "\n",
    "\n",
    "def print_pattern(pattern, show_guess=False):\n",
    "    for (_, val) in pattern:\n",
    "        if val == 2:\n",
    "            print(\"🟩\", end='')\n",
    "        elif val == 1:\n",
    "            print(\"🟨\", end='')\n",
    "        elif val == 0:\n",
    "            print(\"⬛\", end='')\n",
    "    \n",
    "    if show_guess:\n",
    "        print(''.join(c for c, _ in pattern))"
   ]
  },
  {
   "cell_type": "markdown",
   "id": "d21adc69",
   "metadata": {},
   "source": [
    "Here is an example of a pattern, along with a demo of the methods. Unfortunately, I don't have a way of getting the letters in the squares."
   ]
  },
  {
   "cell_type": "code",
   "execution_count": 4,
   "id": "a5098f56",
   "metadata": {},
   "outputs": [
    {
     "name": "stdout",
     "output_type": "stream",
     "text": [
      "⬛🟨⬛⬛🟩plane\n"
     ]
    }
   ],
   "source": [
    "pattern = [\n",
    "    ['p', 0],\n",
    "    ['l', 1],\n",
    "    ['a', 0],\n",
    "    ['n', 0],\n",
    "    ['e', 2],\n",
    "]\n",
    "\n",
    "pattern = generate_pattern(\"plane\", \"whole\")\n",
    "print_pattern(pattern, show_guess = True)"
   ]
  },
  {
   "cell_type": "markdown",
   "id": "606e14e6",
   "metadata": {},
   "source": [
    "Here are the basic strategies. The first one generates a random guess from the set of possible answers given a pattern, and the second one allows for normal human play. The strategy names generally follow the following naming scheme:\n",
    "\n",
    "* General strategy (random, word frequency, etc.)\n",
    "* Selection set (either 'answers' or 'all')\n",
    "* Brief description\n",
    "\n",
    "For example, a strategy that guesses a random word from the set of answers, but check that yellow squares are in a new position would be named `random_answers_check_yellows`."
   ]
  },
  {
   "cell_type": "code",
   "execution_count": 5,
   "id": "76c5a5a8",
   "metadata": {},
   "outputs": [],
   "source": [
    "# Chooses a random word that fits the most recent given pattern\n",
    "def random_answers_last_pattern(patterns):\n",
    "    pattern = patterns[-1]\n",
    "    return random.choice([word for word in answers if pattern_match(word, pattern)])\n",
    "        \n",
    "            \n",
    "# Lets the user play\n",
    "def human_strategy(patterns=None):\n",
    "    guess = input(\"Guess: \").lower()\n",
    "    while guess not in valid_guesses:\n",
    "        guess = input(\"Invalid guess. Try again: \")\n",
    "        \n",
    "    return guess    "
   ]
  },
  {
   "cell_type": "markdown",
   "id": "30079d56",
   "metadata": {},
   "source": [
    "Here is the code that actually plays a game of Wordle. The game is set up in such a way that, unlike the real game, it continues until the solution is guessed. By default, it allows for human play. Try it!"
   ]
  },
  {
   "cell_type": "code",
   "execution_count": 6,
   "id": "24efe8e6",
   "metadata": {},
   "outputs": [],
   "source": [
    "def play_wordle(strategy = human_strategy, first_guess = 'crane', show_guess=False, show_pattern=False):\n",
    "    solution = random.choice(answers)\n",
    "    solved = False\n",
    "    patterns = []\n",
    "    \n",
    "    # First turn\n",
    "    guess = first_guess\n",
    "    if strategy == human_strategy:\n",
    "        show_guess = True\n",
    "        show_pattern = True\n",
    "        guess = strategy() \n",
    "        \n",
    "    pattern = generate_pattern(guess, solution)\n",
    "    patterns.append(pattern)\n",
    "    \n",
    "    if show_pattern:\n",
    "        print_pattern(pattern, show_guess)\n",
    "    \n",
    "    \n",
    "    turn = 2\n",
    "    while not solved:\n",
    "        try:\n",
    "            guess = strategy(patterns)\n",
    "\n",
    "        # Debug\n",
    "        except:\n",
    "            print(f\"Error on turn {turn}: \\n\")\n",
    "            print_pattern(pattern)\n",
    "            print(guess)\n",
    "            traceback.print_exc()\n",
    "            return False\n",
    "        \n",
    "        if guess == solution:\n",
    "            if show_pattern:\n",
    "                print_pattern(generate_pattern(guess, solution))\n",
    "                \n",
    "            if show_guess:\n",
    "                print(solution)\n",
    "                \n",
    "            solved = turn\n",
    "            break;\n",
    "        \n",
    "        pattern = generate_pattern(guess, solution)\n",
    "        patterns.append(pattern)\n",
    "        \n",
    "        if show_pattern:\n",
    "            print_pattern(pattern, show_guess)      \n",
    "        \n",
    "        turn += 1\n",
    "    \n",
    "    return solved"
   ]
  },
  {
   "cell_type": "code",
   "execution_count": 7,
   "id": "fe74b0f5",
   "metadata": {},
   "outputs": [
    {
     "name": "stdout",
     "output_type": "stream",
     "text": [
      "⬛🟩⬛⬛⬛crane\n",
      "⬛🟩🟩🟩⬛wrist\n",
      "⬛🟩🟩🟩⬛crisp\n",
      "⬛🟩🟩🟩⬛wrist\n",
      "⬛🟩🟩🟩🟩brisk\n",
      "🟩🟩🟩🟩🟩frisk\n"
     ]
    },
    {
     "data": {
      "text/plain": [
       "6"
      ]
     },
     "execution_count": 7,
     "metadata": {},
     "output_type": "execute_result"
    }
   ],
   "source": [
    "# Use the first call to play Wordle yourself\n",
    "# play_wordle()   \n",
    "play_wordle(random_answers_last_pattern, show_pattern=True, show_guess=True)"
   ]
  },
  {
   "cell_type": "markdown",
   "id": "7eeddcc6",
   "metadata": {},
   "source": [
    "Here, we define a way to get the average score for a given strategy. We will use this later to compare performance."
   ]
  },
  {
   "cell_type": "code",
   "execution_count": 8,
   "id": "a1121737",
   "metadata": {},
   "outputs": [],
   "source": [
    "def test_strategy(strategy, n=1000):\n",
    "    scores = []\n",
    "    for i in tqdm(range(n)):\n",
    "        score = play_wordle(strategy)\n",
    "        scores.append(score)\n",
    "        \n",
    "    return scores\n",
    "\n",
    "def get_average_score(strategy, n=1000):\n",
    "    return np.mean(test_strategy(strategy, n))\n"
   ]
  },
  {
   "cell_type": "code",
   "execution_count": 9,
   "id": "d24265b9",
   "metadata": {},
   "outputs": [
    {
     "name": "stderr",
     "output_type": "stream",
     "text": [
      "100%|██████████| 1000/1000 [00:19<00:00, 51.68it/s]\n"
     ]
    },
    {
     "data": {
      "text/plain": [
       "6.601"
      ]
     },
     "execution_count": 9,
     "metadata": {},
     "output_type": "execute_result"
    }
   ],
   "source": [
    "get_average_score(random_answers_last_pattern)"
   ]
  },
  {
   "cell_type": "markdown",
   "id": "22ea5a67",
   "metadata": {},
   "source": [
    "Here are a few more strategies that factor in information about the previous patterns. The second one also makes sure that all yellow tiles are in a new location."
   ]
  },
  {
   "cell_type": "code",
   "execution_count": 10,
   "id": "49386425",
   "metadata": {},
   "outputs": [],
   "source": [
    "def random_answers_every_guess(patterns):\n",
    "    return random.choice([word for word in answers if np.all([pattern_match(word, pattern) for pattern in patterns])])\n",
    "\n",
    "\n",
    "def random_answers_check_yellows(patterns):\n",
    "    guess = random_answers_every_guess(patterns)\n",
    "    \n",
    "    while not moves_yellows(guess, patterns):\n",
    "        guess = random_answers_every_guess(patterns)\n",
    "        \n",
    "    return guess\n",
    "\n",
    "\n",
    "def moves_yellows(guess_candidate, patterns):\n",
    "    for pattern in patterns:\n",
    "        # Reconstruct past guess\n",
    "        prev_guess = ''.join(c for c, _ in pattern)\n",
    "        \n",
    "        for i, (_, val) in enumerate(pattern):\n",
    "            if val == 1 and guess_candidate[i] == prev_guess[i]:\n",
    "                return False\n",
    "    \n",
    "    return True"
   ]
  },
  {
   "cell_type": "markdown",
   "id": "056fca7e",
   "metadata": {},
   "source": [
    "Here's another cell to test the new strategies:"
   ]
  },
  {
   "cell_type": "code",
   "execution_count": 11,
   "id": "2e81d582",
   "metadata": {},
   "outputs": [
    {
     "name": "stdout",
     "output_type": "stream",
     "text": [
      "⬛🟩⬛🟨🟨crane\n",
      "⬛🟩🟩🟩🟩green\n",
      "🟩🟩🟩🟩🟩preen\n"
     ]
    },
    {
     "data": {
      "text/plain": [
       "3"
      ]
     },
     "execution_count": 11,
     "metadata": {},
     "output_type": "execute_result"
    }
   ],
   "source": [
    "play_wordle(random_answers_check_yellows, show_pattern=True, show_guess=True)"
   ]
  },
  {
   "cell_type": "code",
   "execution_count": 12,
   "id": "b6a6ee85",
   "metadata": {
    "scrolled": true
   },
   "outputs": [
    {
     "name": "stderr",
     "output_type": "stream",
     "text": [
      "100%|██████████| 100/100 [00:19<00:00,  5.13it/s]\n"
     ]
    }
   ],
   "source": [
    "scores = test_strategy(random_answers_check_yellows, n=100)"
   ]
  },
  {
   "cell_type": "code",
   "execution_count": 13,
   "id": "f5d6d8e7",
   "metadata": {},
   "outputs": [
    {
     "name": "stdout",
     "output_type": "stream",
     "text": [
      "3.99\n"
     ]
    },
    {
     "data": {
      "image/png": "[encoded data removed]",
      "text/plain": [
       "<Figure size 432x288 with 1 Axes>"
      ]
     },
     "metadata": {
      "needs_background": "light"
     },
     "output_type": "display_data"
    }
   ],
   "source": [
    "print(np.mean(scores))\n",
    "plt.bar(*np.unique(scores, return_counts = True))\n",
    "plt.show()"
   ]
  },
  {
   "cell_type": "markdown",
   "id": "e442fec2",
   "metadata": {},
   "source": [
    "On average, `random_check_yellows` scores around 4 guesses, which is in line with an average human player. But the bot has an unfair advantage  by knowing the set of all possible answers at all times. What if we make it choose from all ~13000 possible guesses?"
   ]
  },
  {
   "cell_type": "code",
   "execution_count": 14,
   "id": "05480254",
   "metadata": {},
   "outputs": [],
   "source": [
    "def random_all_check_yellows(patterns):\n",
    "    guess = random.choice([word for word in valid_guesses if np.all([pattern_match(word, pattern) for pattern in patterns])])\n",
    "    \n",
    "    while not moves_yellows(guess, patterns):\n",
    "        guess = random_answers_every_guess(patterns)\n",
    "        \n",
    "    return guess"
   ]
  },
  {
   "cell_type": "markdown",
   "id": "d9eef95b",
   "metadata": {},
   "source": [
    "Not only is the runtime for each game much slower, since more possible guesses need to be checked, but the performance is also a little bit worse. For every turn in each game, the program has to check the pattern against all of the possible guesses for every pattern that has been collected so far in that game. Perhaps there is a faster way to narrow down the selection?"
   ]
  },
  {
   "cell_type": "markdown",
   "id": "11d2dcd5",
   "metadata": {},
   "source": [
    "### Speeding up the search\n",
    "\n",
    "This function dramatically speeds up the pattern matching process by using regular expressions, which are constructed in the following way:\n",
    "\n",
    "1. Build three sets of characters, one for each color.\n",
    "    * Greys get excluded everywhere\n",
    "    * Yellows get excluded in a specific location\n",
    "    * Greens become required at that location\n",
    "2. Build a regular expression one character at a time (out of the five in the candidate words) in the following way:\n",
    "    * If the character in this location is known (i.e. green), add that character to the regular expression\n",
    "    * Otherwise, use the `[]` operator in conjunction with `^` to exclude every grey character in addition to the yellow characters that appeared in that location.\n",
    "    \n",
    "The flattened `patterns` array preserves the original order, so the applicable position in the regular expression can be found by taking the index mod 5.\n",
    "\n",
    "The corpus of choice is then searched using the regular expression, and a list of all matches is made. But there is one missing piece: no part of our regular expression mandates the existence of any yellow letter in a *different* part of the string. A final check is made on all of the matches to make sure that they fit these criteria.\n",
    "    "
   ]
  },
  {
   "cell_type": "code",
   "execution_count": 15,
   "id": "e1375780",
   "metadata": {},
   "outputs": [],
   "source": [
    "def match_all_patterns(patterns, corpus):\n",
    "    # Convert the patterns into a 2-d array.\n",
    "    #    The first element is an array with all of the letters, and\n",
    "    #    the seconds is the corresponding value. Order is preserved.\n",
    "    patterns = np.transpose(np.reshape(np.transpose(patterns), (2, -1), order='F'))\n",
    "    \n",
    "    # Convert corpus to single string\n",
    "    if isinstance(corpus, list):\n",
    "        corpus = \"\\n\".join(list(map(str, corpus)))\n",
    "        corpus = \"\\n\"+corpus\n",
    "        \n",
    "\n",
    "    \n",
    "    # Initialize exclusion classes\n",
    "    greys = \"\"\n",
    "    yellows = [\"\",\"\",\"\",\"\",\"\"]\n",
    "    greens = [\"\",\"\",\"\",\"\",\"\"]\n",
    "    \n",
    "    # Fill the exculsion classes based on the patterns\n",
    "    for i, (c, val) in enumerate(patterns):\n",
    "        # The numpy conversions above changed the vals to strings\n",
    "        val = int(val)\n",
    "\n",
    "        if val == 0:\n",
    "            greys += c\n",
    "        elif val == 1:\n",
    "            yellows[i % 5] += c\n",
    "        else:\n",
    "            greens[i % 5] = c\n",
    "    \n",
    "    # Build the regular expression from the exclusion classes\n",
    "    re_string = \"(\\n)(\"\n",
    "\n",
    "    for i in range(5):\n",
    "        if greens[i] != \"\":\n",
    "            re_string += greens[i]\n",
    "            continue\n",
    "\n",
    "        re_string += f\"[^{greys + yellows[i]}]\"\n",
    "        \n",
    "    re_string += \")\"\n",
    "        \n",
    "    try:\n",
    "        # Search the corpus using the regex (also removes \\n)\n",
    "        match_candidates = re.findall(re_string, corpus)\n",
    "        \n",
    "        if len(match_candidates) == 0:\n",
    "            print(\"No matches!\")\n",
    "            return []\n",
    "     \n",
    "    # Debug\n",
    "    except:\n",
    "        print(\"Error for the following patterns: \\n\")\n",
    "        print(patterns)\n",
    "        print(\"\\n\")\n",
    "        print(\"Here is the corpus being tested: \")\n",
    "        print(corpus)\n",
    "        print(\"Here is the set of regex matches: \\n\")\n",
    "        print(re.findall(re_string, corpus))\n",
    "        \n",
    "    # remove \\n\n",
    "    match_candidates = list(zip(*match_candidates))[1]\n",
    "    \n",
    "    return [candidate for candidate in match_candidates if all(char in candidate for char in \"\".join(yellows))]"
   ]
  },
  {
   "cell_type": "markdown",
   "id": "87e185da",
   "metadata": {},
   "source": [
    "Now let's build a new version of `random_answers_check_yellows` using the new `match_all_patterns` method. This version has roughly the same average score as before, but it now runs about 300 times faster!"
   ]
  },
  {
   "cell_type": "code",
   "execution_count": 16,
   "id": "3c28d5fd",
   "metadata": {},
   "outputs": [
    {
     "name": "stderr",
     "output_type": "stream",
     "text": [
      "100%|██████████| 1000/1000 [00:01<00:00, 800.53it/s]\n"
     ]
    },
    {
     "data": {
      "text/plain": [
       "3.897"
      ]
     },
     "execution_count": 16,
     "metadata": {},
     "output_type": "execute_result"
    }
   ],
   "source": [
    "def random_answers_fast(patterns):\n",
    "    matches = match_all_patterns(patterns, answers_no_split)\n",
    "    \n",
    "    return random.choice(matches)\n",
    "\n",
    "get_average_score(random_answers_fast)"
   ]
  },
  {
   "cell_type": "markdown",
   "id": "54688930",
   "metadata": {},
   "source": [
    "Below is an updated version of `generate_pattern` that appropriatley handles some issues raised previously by duplicate letters. Unfortunatley, the Wordle game itself breaks when this version is implemented, so it is not actually used by the game."
   ]
  },
  {
   "cell_type": "code",
   "execution_count": 17,
   "id": "452d3384",
   "metadata": {},
   "outputs": [],
   "source": [
    "def generate_pattern_new(guess, solution):\n",
    "    letters_remaining = []\n",
    "    pattern = [None for i in range(len(guess))]\n",
    "    # Add greens, everything else is yellow\n",
    "    for i, char in enumerate(guess):\n",
    "        if solution[i] == char:\n",
    "            pattern[i] = [char, 2]\n",
    "        else:\n",
    "            pattern[i] = [char, 0]\n",
    "            letters_remaining.append([i, char])\n",
    "    \n",
    "    # If the guess is correct\n",
    "    if len(letters_remaining) == 0:\n",
    "        return pattern\n",
    "    \n",
    "    indices_remaining = list(list(zip(*letters_remaining))[0])\n",
    "        \n",
    "    for i, char in letters_remaining:\n",
    "        solution_remaining = [solution[j] for j in indices_remaining]\n",
    "        if char in solution_remaining:\n",
    "            index_to_remove = solution.find(char)\n",
    "            pattern[i] = [char, 1]\n",
    "            indices_remaining.remove(index_to_remove)\n",
    "    \n",
    "    return pattern"
   ]
  },
  {
   "cell_type": "markdown",
   "id": "8da3f9e6",
   "metadata": {},
   "source": [
    "This segement checks a few of the edge cases that can arise from more than one instance of the same letter in a guess. Cases from <a href=https://stackoverflow.com/questions/71324956/wordle-implementation-dealing-with-duplicate-letters-edge-case>this</a> stack overflow page."
   ]
  },
  {
   "cell_type": "code",
   "execution_count": 18,
   "id": "d295203c",
   "metadata": {},
   "outputs": [
    {
     "name": "stdout",
     "output_type": "stream",
     "text": [
      "Solution: close\n",
      "🟩⬛🟨⬛⬛cheer\n",
      "🟩🟨⬛⬛🟨cocks\n",
      "🟨⬛⬛⬛🟩leave\n"
     ]
    }
   ],
   "source": [
    "solution = \"close\"\n",
    "case_1 = generate_pattern_new(\"cheer\", solution)\n",
    "case_2 = generate_pattern_new(\"cocks\", solution)\n",
    "case_3 = generate_pattern_new(\"leave\", solution)\n",
    "print(f\"Solution: {solution}\")\n",
    "print_pattern(case_1, show_guess=True)\n",
    "print_pattern(case_2, show_guess=True)\n",
    "print_pattern(case_3, show_guess=True)"
   ]
  },
  {
   "cell_type": "markdown",
   "id": "7139c983",
   "metadata": {},
   "source": [
    "Below is a strategy that uses prinicples from Inforation Theory in order to select a guess which will, on average, reduce the number of remaining possibilities the most. For each match, the code iterates over each of the matches and evaluates how many solutions remain *if that given match were to be the solution*. Because each word is being tested against every other word in the set, the complexity of this operation is $\\Theta(n^2)$, where $n$ is the number of remaining matches. \n",
    "\n",
    "There is one issue with the implementation of this method. When the set of remaining matches is small ($\\lt$4), `min_avg` often never gets updated, resulting in `None` being the returned as the guess. I have just told the program to choose a random guess when the set size is that small, which does hinder the performance in some cases."
   ]
  },
  {
   "cell_type": "code",
   "execution_count": 19,
   "id": "ed705d2a",
   "metadata": {},
   "outputs": [],
   "source": [
    "def information_matches(patterns):\n",
    "    matches = match_all_patterns(patterns, answers_no_split)\n",
    "    \n",
    "    if len(matches) == 1:\n",
    "        return matches[0]\n",
    "    \n",
    "    #This makes the performance worse, but something breaks when the set size is small\n",
    "    if len(matches) < 4:\n",
    "        return matches[random.randint(0,len(matches)-1)]\n",
    "    \n",
    "    min_avg = (len(answers), None)\n",
    "    for match in matches:\n",
    "        avg = get_average_size_log(match, matches)\n",
    "         \n",
    "        if avg < min_avg[0] and avg != 0:\n",
    "            min_avg = (avg, match)  \n",
    "\n",
    "    guess = min_avg[1]\n",
    "    \n",
    "    if guess == None:\n",
    "        print(\"None guess\")\n",
    "        print(patterns)\n",
    "        print(matches)\n",
    "    \n",
    "    return min_avg[1]\n",
    "        \n",
    "        \n",
    "# Here, 'word' represents the word that the corpus is being tested against\n",
    "def get_average_size_log(word, corpus):\n",
    "    sizes = np.empty(len(corpus))\n",
    "    \n",
    "    for i, candidate in enumerate(corpus):\n",
    "        sizes[i] = get_candidate_set_size(word, candidate, corpus)\n",
    "        \n",
    "    mean = np.mean(np.log2(sizes, where=sizes>0))\n",
    "    return mean\n",
    "        \n",
    "# Figures out how much the solution set is narrowed by guessing 'word' if the solution is 'candidate'\n",
    "def get_candidate_set_size(word, candidate, corpus):\n",
    "    if word == candidate:\n",
    "        return 0\n",
    "    \n",
    "    candidate_pattern = generate_pattern(word, candidate)\n",
    "    size = len(match_all_patterns(candidate_pattern, corpus))\n",
    "    \n",
    "    if size == 0:\n",
    "        print(\"Size of 0\")\n",
    "        print(\"Testing word \" + word)\n",
    "        print(\"With candidate \" + candidate)\n",
    "        print(len(corpus))\n",
    "        raise \n",
    "    \n",
    "    return size\n"
   ]
  },
  {
   "cell_type": "code",
   "execution_count": 20,
   "id": "3bdef155",
   "metadata": {
    "scrolled": true
   },
   "outputs": [
    {
     "name": "stdout",
     "output_type": "stream",
     "text": [
      "⬛🟩🟩⬛⬛crane\n",
      "⬛🟩🟩⬛⬛trail\n",
      "🟩🟩🟩🟩⬛grasp\n",
      "🟩🟩🟩🟩🟩grass\n"
     ]
    },
    {
     "data": {
      "text/plain": [
       "4"
      ]
     },
     "execution_count": 20,
     "metadata": {},
     "output_type": "execute_result"
    }
   ],
   "source": [
    "play_wordle(information_matches, show_pattern=True, show_guess=True)"
   ]
  },
  {
   "cell_type": "code",
   "execution_count": null,
   "id": "af850c38",
   "metadata": {},
   "outputs": [],
   "source": [
    "scores = test_strategy(information_matches, n=100)"
   ]
  },
  {
   "cell_type": "code",
   "execution_count": 24,
   "id": "a6130789",
   "metadata": {},
   "outputs": [
    {
     "name": "stdout",
     "output_type": "stream",
     "text": [
      "Mean score: 3.62\n"
     ]
    },
    {
     "data": {
      "image/png": "[encoded data removed]",
      "text/plain": [
       "<Figure size 432x288 with 1 Axes>"
      ]
     },
     "metadata": {
      "needs_background": "light"
     },
     "output_type": "display_data"
    }
   ],
   "source": [
    "print(\"Mean score: \" + str(np.mean(scores)))\n",
    "plt.bar(*np.unique(scores, return_counts = True))\n",
    "plt.xlabel(\"Number of turns\")\n",
    "plt.ylabel(\"Count\")\n",
    "plt.show()"
   ]
  },
  {
   "cell_type": "markdown",
   "id": "5450c076",
   "metadata": {},
   "source": [
    "Thats it! Here is another cell to play Wordle using any of the strategies:"
   ]
  },
  {
   "cell_type": "code",
   "execution_count": null,
   "id": "10ac32ab",
   "metadata": {},
   "outputs": [],
   "source": [
    "play_wordle()"
   ]
  },
  {
   "cell_type": "markdown",
   "id": "0064ccfd",
   "metadata": {},
   "source": [
    "#### Improvements for the future\n",
    "* Fix issue with the updated pattern generating system\n",
    "* Fix issue with small match size in `information_matches` strategy\n",
    "* Add more information about the performance of the strategies\n",
    "* Add more strategies (word/letter frequency in some corpus, one that isn't restricted to the rules of hard mode, etc.)"
   ]
  }
 ],
 "metadata": {
  "kernelspec": {
   "display_name": "Python 3 (ipykernel)",
   "language": "python",
   "name": "python3"
  },
  "language_info": {
   "codemirror_mode": {
    "name": "ipython",
    "version": 3
   },
   "file_extension": ".py",
   "mimetype": "text/x-python",
   "name": "python",
   "nbconvert_exporter": "python",
   "pygments_lexer": "ipython3",
   "version": "3.9.5"
  }
 },
 "nbformat": 4,
 "nbformat_minor": 5
}
